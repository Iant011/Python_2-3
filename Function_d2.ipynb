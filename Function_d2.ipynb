{
 "cells": [
  {
   "cell_type": "code",
   "execution_count": 1,
   "id": "ee52e83d",
   "metadata": {},
   "outputs": [],
   "source": [
    "def car():\n",
    "    print(\"CAR\")"
   ]
  },
  {
   "cell_type": "code",
   "execution_count": 2,
   "id": "7540d16e",
   "metadata": {},
   "outputs": [
    {
     "name": "stdout",
     "output_type": "stream",
     "text": [
      "CAR\n"
     ]
    }
   ],
   "source": [
    "car()"
   ]
  },
  {
   "cell_type": "code",
   "execution_count": 3,
   "id": "69b7efa9",
   "metadata": {},
   "outputs": [
    {
     "data": {
      "text/plain": [
       "function"
      ]
     },
     "execution_count": 3,
     "metadata": {},
     "output_type": "execute_result"
    }
   ],
   "source": [
    "type(car)"
   ]
  },
  {
   "cell_type": "code",
   "execution_count": 4,
   "id": "596c6352",
   "metadata": {},
   "outputs": [
    {
     "name": "stdout",
     "output_type": "stream",
     "text": [
      "<class 'function'>\n"
     ]
    }
   ],
   "source": [
    "print(type(car))"
   ]
  },
  {
   "cell_type": "code",
   "execution_count": 5,
   "id": "362ac9ed",
   "metadata": {},
   "outputs": [],
   "source": [
    "def car():\n",
    "    return 'Car_1'"
   ]
  },
  {
   "cell_type": "code",
   "execution_count": 6,
   "id": "5affc406",
   "metadata": {},
   "outputs": [
    {
     "data": {
      "text/plain": [
       "'Car_1'"
      ]
     },
     "execution_count": 6,
     "metadata": {},
     "output_type": "execute_result"
    }
   ],
   "source": [
    "car()"
   ]
  },
  {
   "cell_type": "code",
   "execution_count": 7,
   "id": "d2ca40f6",
   "metadata": {},
   "outputs": [
    {
     "data": {
      "text/plain": [
       "function"
      ]
     },
     "execution_count": 7,
     "metadata": {},
     "output_type": "execute_result"
    }
   ],
   "source": [
    "type(car)"
   ]
  },
  {
   "cell_type": "code",
   "execution_count": 8,
   "id": "17869c3d",
   "metadata": {},
   "outputs": [],
   "source": [
    "def addition():\n",
    "    a = 5\n",
    "    b = 5\n",
    "    return a + b"
   ]
  },
  {
   "cell_type": "code",
   "execution_count": 9,
   "id": "457c68aa",
   "metadata": {},
   "outputs": [
    {
     "data": {
      "text/plain": [
       "10"
      ]
     },
     "execution_count": 9,
     "metadata": {},
     "output_type": "execute_result"
    }
   ],
   "source": [
    "addition()"
   ]
  },
  {
   "cell_type": "code",
   "execution_count": 10,
   "id": "1a8c07e8",
   "metadata": {},
   "outputs": [],
   "source": [
    "def addition(a,b):\n",
    "    return a + b"
   ]
  },
  {
   "cell_type": "code",
   "execution_count": 11,
   "id": "7b2286be",
   "metadata": {},
   "outputs": [
    {
     "data": {
      "text/plain": [
       "15"
      ]
     },
     "execution_count": 11,
     "metadata": {},
     "output_type": "execute_result"
    }
   ],
   "source": [
    "addition(10,5)"
   ]
  },
  {
   "cell_type": "code",
   "execution_count": 12,
   "id": "837de40d",
   "metadata": {},
   "outputs": [],
   "source": [
    "def IANT():\n",
    "    print(\"Iant Students\")"
   ]
  },
  {
   "cell_type": "code",
   "execution_count": 13,
   "id": "861a69a9",
   "metadata": {},
   "outputs": [
    {
     "name": "stdout",
     "output_type": "stream",
     "text": [
      "Iant Students\n"
     ]
    }
   ],
   "source": [
    "IANT()"
   ]
  },
  {
   "cell_type": "code",
   "execution_count": 14,
   "id": "3dc34bc7",
   "metadata": {},
   "outputs": [
    {
     "name": "stdout",
     "output_type": "stream",
     "text": [
      "Iant Students\n"
     ]
    },
    {
     "data": {
      "text/plain": [
       "NoneType"
      ]
     },
     "execution_count": 14,
     "metadata": {},
     "output_type": "execute_result"
    }
   ],
   "source": [
    "type(IANT())"
   ]
  },
  {
   "cell_type": "code",
   "execution_count": 15,
   "id": "4f27f9b9",
   "metadata": {},
   "outputs": [],
   "source": [
    "def IANT():\n",
    "    return \"Iant Students\""
   ]
  },
  {
   "cell_type": "code",
   "execution_count": 16,
   "id": "40bb301b",
   "metadata": {},
   "outputs": [
    {
     "data": {
      "text/plain": [
       "str"
      ]
     },
     "execution_count": 16,
     "metadata": {},
     "output_type": "execute_result"
    }
   ],
   "source": [
    "type(IANT())"
   ]
  },
  {
   "cell_type": "code",
   "execution_count": 17,
   "id": "956ab916",
   "metadata": {},
   "outputs": [],
   "source": [
    "def multi(a,b):\n",
    "    return a * b"
   ]
  },
  {
   "cell_type": "code",
   "execution_count": 18,
   "id": "2dcf02a8",
   "metadata": {},
   "outputs": [
    {
     "data": {
      "text/plain": [
       "25"
      ]
     },
     "execution_count": 18,
     "metadata": {},
     "output_type": "execute_result"
    }
   ],
   "source": [
    "multi(5,5)"
   ]
  },
  {
   "cell_type": "code",
   "execution_count": 19,
   "id": "83ad848a",
   "metadata": {},
   "outputs": [],
   "source": [
    "def test1(a,b=5):\n",
    "    return a + b"
   ]
  },
  {
   "cell_type": "code",
   "execution_count": 21,
   "id": "aba5589d",
   "metadata": {},
   "outputs": [
    {
     "data": {
      "text/plain": [
       "15"
      ]
     },
     "execution_count": 21,
     "metadata": {},
     "output_type": "execute_result"
    }
   ],
   "source": [
    "test1(10)"
   ]
  },
  {
   "cell_type": "code",
   "execution_count": 24,
   "id": "0774f7ab",
   "metadata": {},
   "outputs": [],
   "source": [
    "def test2(a):\n",
    "    if type(a) == int:\n",
    "        return 'a is int'\n",
    "    else:\n",
    "        return 'Not int'"
   ]
  },
  {
   "cell_type": "code",
   "execution_count": 25,
   "id": "5287cce8",
   "metadata": {},
   "outputs": [
    {
     "data": {
      "text/plain": [
       "'a is int'"
      ]
     },
     "execution_count": 25,
     "metadata": {},
     "output_type": "execute_result"
    }
   ],
   "source": [
    "test2(10)"
   ]
  },
  {
   "cell_type": "code",
   "execution_count": 26,
   "id": "4d1beca4",
   "metadata": {},
   "outputs": [
    {
     "data": {
      "text/plain": [
       "'Not int'"
      ]
     },
     "execution_count": 26,
     "metadata": {},
     "output_type": "execute_result"
    }
   ],
   "source": [
    "test2('a')"
   ]
  },
  {
   "cell_type": "code",
   "execution_count": 27,
   "id": "23627ea6",
   "metadata": {},
   "outputs": [],
   "source": [
    "def list_num(a):\n",
    "    l = []\n",
    "    l.append(a)\n",
    "    \n",
    "    return l "
   ]
  },
  {
   "cell_type": "code",
   "execution_count": 28,
   "id": "9c5dcf6c",
   "metadata": {},
   "outputs": [
    {
     "data": {
      "text/plain": [
       "[4]"
      ]
     },
     "execution_count": 28,
     "metadata": {},
     "output_type": "execute_result"
    }
   ],
   "source": [
    "list_num(4)"
   ]
  },
  {
   "cell_type": "code",
   "execution_count": 30,
   "id": "8d6af728",
   "metadata": {},
   "outputs": [],
   "source": [
    "def test5(a):\n",
    "    for i in a:\n",
    "        if type(i) == int:\n",
    "            print(i)\n",
    "        \n",
    "        else:\n",
    "            print('Not Int')"
   ]
  },
  {
   "cell_type": "code",
   "execution_count": 31,
   "id": "16efcb7f",
   "metadata": {},
   "outputs": [
    {
     "name": "stdout",
     "output_type": "stream",
     "text": [
      "1\n",
      "2\n",
      "Not Int\n"
     ]
    }
   ],
   "source": [
    "f = [1,2,'IANT']\n",
    "test5(f)"
   ]
  },
  {
   "cell_type": "code",
   "execution_count": 1,
   "id": "6beb13f5",
   "metadata": {},
   "outputs": [],
   "source": [
    "def test5():\n",
    "    return 'This is my exam'"
   ]
  },
  {
   "cell_type": "code",
   "execution_count": 4,
   "id": "19c7b11a",
   "metadata": {},
   "outputs": [],
   "source": [
    "def test6():\n",
    "    return ' In python'"
   ]
  },
  {
   "cell_type": "code",
   "execution_count": 5,
   "id": "2704605c",
   "metadata": {},
   "outputs": [
    {
     "data": {
      "text/plain": [
       "'This is my exam In python'"
      ]
     },
     "execution_count": 5,
     "metadata": {},
     "output_type": "execute_result"
    }
   ],
   "source": [
    "test5() + test6()"
   ]
  },
  {
   "cell_type": "code",
   "execution_count": 6,
   "id": "1734c0dd",
   "metadata": {},
   "outputs": [],
   "source": [
    "def test7():\n",
    "    return 4040"
   ]
  },
  {
   "cell_type": "code",
   "execution_count": 7,
   "id": "74fc01fe",
   "metadata": {},
   "outputs": [
    {
     "data": {
      "text/plain": [
       "4040"
      ]
     },
     "execution_count": 7,
     "metadata": {},
     "output_type": "execute_result"
    }
   ],
   "source": [
    "test7()"
   ]
  },
  {
   "cell_type": "code",
   "execution_count": 8,
   "id": "65165c60",
   "metadata": {},
   "outputs": [
    {
     "data": {
      "text/plain": [
       "4140"
      ]
     },
     "execution_count": 8,
     "metadata": {},
     "output_type": "execute_result"
    }
   ],
   "source": [
    "test7() + 100"
   ]
  },
  {
   "cell_type": "code",
   "execution_count": 9,
   "id": "5dcaaf77",
   "metadata": {},
   "outputs": [],
   "source": [
    "def test8():\n",
    "    return [1,2,3,4,5,'IANT']\n",
    "        "
   ]
  },
  {
   "cell_type": "code",
   "execution_count": 10,
   "id": "20ce1887",
   "metadata": {},
   "outputs": [
    {
     "data": {
      "text/plain": [
       "[1, 2, 3, 4, 5, 'IANT']"
      ]
     },
     "execution_count": 10,
     "metadata": {},
     "output_type": "execute_result"
    }
   ],
   "source": [
    "test8()"
   ]
  },
  {
   "cell_type": "code",
   "execution_count": 11,
   "id": "9615809a",
   "metadata": {},
   "outputs": [],
   "source": [
    "a = test8()"
   ]
  },
  {
   "cell_type": "code",
   "execution_count": 12,
   "id": "25650b81",
   "metadata": {},
   "outputs": [
    {
     "data": {
      "text/plain": [
       "[1, 2, 3, 4, 5, 'IANT']"
      ]
     },
     "execution_count": 12,
     "metadata": {},
     "output_type": "execute_result"
    }
   ],
   "source": [
    "a"
   ]
  },
  {
   "cell_type": "code",
   "execution_count": 13,
   "id": "3dc368d5",
   "metadata": {},
   "outputs": [
    {
     "data": {
      "text/plain": [
       "1"
      ]
     },
     "execution_count": 13,
     "metadata": {},
     "output_type": "execute_result"
    }
   ],
   "source": [
    "a[0]"
   ]
  },
  {
   "cell_type": "code",
   "execution_count": 14,
   "id": "a39116f6",
   "metadata": {},
   "outputs": [],
   "source": [
    "a.append(5)"
   ]
  },
  {
   "cell_type": "code",
   "execution_count": 15,
   "id": "e9652d45",
   "metadata": {},
   "outputs": [
    {
     "data": {
      "text/plain": [
       "[1, 2, 3, 4, 5, 'IANT', 5]"
      ]
     },
     "execution_count": 15,
     "metadata": {},
     "output_type": "execute_result"
    }
   ],
   "source": [
    "a"
   ]
  },
  {
   "cell_type": "code",
   "execution_count": 16,
   "id": "dfd603a3",
   "metadata": {},
   "outputs": [],
   "source": [
    "def test9():\n",
    "    return 1,3,3,4,5,6,7"
   ]
  },
  {
   "cell_type": "code",
   "execution_count": 17,
   "id": "9d4b98c4",
   "metadata": {},
   "outputs": [
    {
     "data": {
      "text/plain": [
       "(1, 3, 3, 4, 5, 6, 7)"
      ]
     },
     "execution_count": 17,
     "metadata": {},
     "output_type": "execute_result"
    }
   ],
   "source": [
    "test9()"
   ]
  },
  {
   "cell_type": "code",
   "execution_count": 18,
   "id": "436a7859",
   "metadata": {},
   "outputs": [],
   "source": [
    "a,b,c,d,e,r,t = test9()"
   ]
  },
  {
   "cell_type": "code",
   "execution_count": 19,
   "id": "0f9dbafa",
   "metadata": {},
   "outputs": [
    {
     "data": {
      "text/plain": [
       "1"
      ]
     },
     "execution_count": 19,
     "metadata": {},
     "output_type": "execute_result"
    }
   ],
   "source": [
    "a"
   ]
  },
  {
   "cell_type": "code",
   "execution_count": 20,
   "id": "b088beaa",
   "metadata": {},
   "outputs": [],
   "source": [
    "def test10(a,b,c,d):\n",
    "    return a , b, c, d"
   ]
  },
  {
   "cell_type": "code",
   "execution_count": 24,
   "id": "bb3e1665",
   "metadata": {},
   "outputs": [
    {
     "data": {
      "text/plain": [
       "(10, 20, 30, 40)"
      ]
     },
     "execution_count": 24,
     "metadata": {},
     "output_type": "execute_result"
    }
   ],
   "source": [
    "test10(10,20,30,40)"
   ]
  },
  {
   "cell_type": "code",
   "execution_count": 25,
   "id": "ccc285d5",
   "metadata": {},
   "outputs": [],
   "source": [
    "def test11(*args):\n",
    "    return args"
   ]
  },
  {
   "cell_type": "code",
   "execution_count": 26,
   "id": "1abc1f50",
   "metadata": {},
   "outputs": [
    {
     "data": {
      "text/plain": [
       "(4,)"
      ]
     },
     "execution_count": 26,
     "metadata": {},
     "output_type": "execute_result"
    }
   ],
   "source": [
    "test11(4)"
   ]
  },
  {
   "cell_type": "code",
   "execution_count": 27,
   "id": "98360d48",
   "metadata": {},
   "outputs": [
    {
     "data": {
      "text/plain": [
       "(1, 2, 3, 4)"
      ]
     },
     "execution_count": 27,
     "metadata": {},
     "output_type": "execute_result"
    }
   ],
   "source": [
    "test11(1,2,3,4)"
   ]
  },
  {
   "cell_type": "code",
   "execution_count": 28,
   "id": "fc15f0b1",
   "metadata": {},
   "outputs": [],
   "source": [
    "def test12(a,*args):\n",
    "    return a, args"
   ]
  },
  {
   "cell_type": "code",
   "execution_count": 29,
   "id": "12d1fc9c",
   "metadata": {},
   "outputs": [
    {
     "data": {
      "text/plain": [
       "(10, (1, 2, 3, 4, 5))"
      ]
     },
     "execution_count": 29,
     "metadata": {},
     "output_type": "execute_result"
    }
   ],
   "source": [
    "test12(10,1,2,3,4,5)"
   ]
  },
  {
   "cell_type": "code",
   "execution_count": 30,
   "id": "80e0e569",
   "metadata": {},
   "outputs": [
    {
     "data": {
      "text/plain": [
       "('ABCD', (1, 11, 12, 12, 15))"
      ]
     },
     "execution_count": 30,
     "metadata": {},
     "output_type": "execute_result"
    }
   ],
   "source": [
    "test12('ABCD',1,11,12,12,15)"
   ]
  },
  {
   "cell_type": "code",
   "execution_count": 34,
   "id": "75f7e4e9",
   "metadata": {},
   "outputs": [],
   "source": [
    "def test13(a,b,*args):    #before args rule\n",
    "    return a, b , args"
   ]
  },
  {
   "cell_type": "code",
   "execution_count": 35,
   "id": "e35a4164",
   "metadata": {},
   "outputs": [
    {
     "data": {
      "text/plain": [
       "(100, 200, (5, 6, 78, 9))"
      ]
     },
     "execution_count": 35,
     "metadata": {},
     "output_type": "execute_result"
    }
   ],
   "source": [
    "test13(100,200,5,6,78,9)"
   ]
  },
  {
   "cell_type": "code",
   "execution_count": 36,
   "id": "be4963e0",
   "metadata": {},
   "outputs": [],
   "source": [
    "def test14(*args,a):       #after args rule\n",
    "    return args , a"
   ]
  },
  {
   "cell_type": "code",
   "execution_count": 38,
   "id": "cb0b6ded",
   "metadata": {},
   "outputs": [
    {
     "data": {
      "text/plain": [
       "((1, 2, 3, 4, 5, 6, 7), 100)"
      ]
     },
     "execution_count": 38,
     "metadata": {},
     "output_type": "execute_result"
    }
   ],
   "source": [
    "test14(1,2,3,4,5,6,7,a = 100)"
   ]
  },
  {
   "cell_type": "code",
   "execution_count": null,
   "id": "e512cf9c",
   "metadata": {},
   "outputs": [],
   "source": []
  }
 ],
 "metadata": {
  "kernelspec": {
   "display_name": "Python 3 (ipykernel)",
   "language": "python",
   "name": "python3"
  },
  "language_info": {
   "codemirror_mode": {
    "name": "ipython",
    "version": 3
   },
   "file_extension": ".py",
   "mimetype": "text/x-python",
   "name": "python",
   "nbconvert_exporter": "python",
   "pygments_lexer": "ipython3",
   "version": "3.10.9"
  }
 },
 "nbformat": 4,
 "nbformat_minor": 5
}
