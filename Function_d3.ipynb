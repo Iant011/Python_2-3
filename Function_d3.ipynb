{
 "cells": [
  {
   "cell_type": "code",
   "execution_count": 1,
   "id": "ee52e83d",
   "metadata": {},
   "outputs": [],
   "source": [
    "def car():\n",
    "    print(\"CAR\")"
   ]
  },
  {
   "cell_type": "code",
   "execution_count": 2,
   "id": "7540d16e",
   "metadata": {},
   "outputs": [
    {
     "name": "stdout",
     "output_type": "stream",
     "text": [
      "CAR\n"
     ]
    }
   ],
   "source": [
    "car()"
   ]
  },
  {
   "cell_type": "code",
   "execution_count": 3,
   "id": "69b7efa9",
   "metadata": {},
   "outputs": [
    {
     "data": {
      "text/plain": [
       "function"
      ]
     },
     "execution_count": 3,
     "metadata": {},
     "output_type": "execute_result"
    }
   ],
   "source": [
    "type(car)"
   ]
  },
  {
   "cell_type": "code",
   "execution_count": 4,
   "id": "596c6352",
   "metadata": {},
   "outputs": [
    {
     "name": "stdout",
     "output_type": "stream",
     "text": [
      "<class 'function'>\n"
     ]
    }
   ],
   "source": [
    "print(type(car))"
   ]
  },
  {
   "cell_type": "code",
   "execution_count": 5,
   "id": "362ac9ed",
   "metadata": {},
   "outputs": [],
   "source": [
    "def car():\n",
    "    return 'Car_1'"
   ]
  },
  {
   "cell_type": "code",
   "execution_count": 6,
   "id": "5affc406",
   "metadata": {},
   "outputs": [
    {
     "data": {
      "text/plain": [
       "'Car_1'"
      ]
     },
     "execution_count": 6,
     "metadata": {},
     "output_type": "execute_result"
    }
   ],
   "source": [
    "car()"
   ]
  },
  {
   "cell_type": "code",
   "execution_count": 7,
   "id": "d2ca40f6",
   "metadata": {},
   "outputs": [
    {
     "data": {
      "text/plain": [
       "function"
      ]
     },
     "execution_count": 7,
     "metadata": {},
     "output_type": "execute_result"
    }
   ],
   "source": [
    "type(car)"
   ]
  },
  {
   "cell_type": "code",
   "execution_count": 8,
   "id": "17869c3d",
   "metadata": {},
   "outputs": [],
   "source": [
    "def addition():\n",
    "    a = 5\n",
    "    b = 5\n",
    "    return a + b"
   ]
  },
  {
   "cell_type": "code",
   "execution_count": 9,
   "id": "457c68aa",
   "metadata": {},
   "outputs": [
    {
     "data": {
      "text/plain": [
       "10"
      ]
     },
     "execution_count": 9,
     "metadata": {},
     "output_type": "execute_result"
    }
   ],
   "source": [
    "addition()"
   ]
  },
  {
   "cell_type": "code",
   "execution_count": 10,
   "id": "1a8c07e8",
   "metadata": {},
   "outputs": [],
   "source": [
    "def addition(a,b):\n",
    "    return a + b"
   ]
  },
  {
   "cell_type": "code",
   "execution_count": 11,
   "id": "7b2286be",
   "metadata": {},
   "outputs": [
    {
     "data": {
      "text/plain": [
       "15"
      ]
     },
     "execution_count": 11,
     "metadata": {},
     "output_type": "execute_result"
    }
   ],
   "source": [
    "addition(10,5)"
   ]
  },
  {
   "cell_type": "code",
   "execution_count": 12,
   "id": "837de40d",
   "metadata": {},
   "outputs": [],
   "source": [
    "def IANT():\n",
    "    print(\"Iant Students\")"
   ]
  },
  {
   "cell_type": "code",
   "execution_count": 13,
   "id": "861a69a9",
   "metadata": {},
   "outputs": [
    {
     "name": "stdout",
     "output_type": "stream",
     "text": [
      "Iant Students\n"
     ]
    }
   ],
   "source": [
    "IANT()"
   ]
  },
  {
   "cell_type": "code",
   "execution_count": 14,
   "id": "3dc34bc7",
   "metadata": {},
   "outputs": [
    {
     "name": "stdout",
     "output_type": "stream",
     "text": [
      "Iant Students\n"
     ]
    },
    {
     "data": {
      "text/plain": [
       "NoneType"
      ]
     },
     "execution_count": 14,
     "metadata": {},
     "output_type": "execute_result"
    }
   ],
   "source": [
    "type(IANT())"
   ]
  },
  {
   "cell_type": "code",
   "execution_count": 15,
   "id": "4f27f9b9",
   "metadata": {},
   "outputs": [],
   "source": [
    "def IANT():\n",
    "    return \"Iant Students\""
   ]
  },
  {
   "cell_type": "code",
   "execution_count": 16,
   "id": "40bb301b",
   "metadata": {},
   "outputs": [
    {
     "data": {
      "text/plain": [
       "str"
      ]
     },
     "execution_count": 16,
     "metadata": {},
     "output_type": "execute_result"
    }
   ],
   "source": [
    "type(IANT())"
   ]
  },
  {
   "cell_type": "code",
   "execution_count": 17,
   "id": "956ab916",
   "metadata": {},
   "outputs": [],
   "source": [
    "def multi(a,b):\n",
    "    return a * b"
   ]
  },
  {
   "cell_type": "code",
   "execution_count": 18,
   "id": "2dcf02a8",
   "metadata": {},
   "outputs": [
    {
     "data": {
      "text/plain": [
       "25"
      ]
     },
     "execution_count": 18,
     "metadata": {},
     "output_type": "execute_result"
    }
   ],
   "source": [
    "multi(5,5)"
   ]
  },
  {
   "cell_type": "code",
   "execution_count": 19,
   "id": "83ad848a",
   "metadata": {},
   "outputs": [],
   "source": [
    "def test1(a,b=5):\n",
    "    return a + b"
   ]
  },
  {
   "cell_type": "code",
   "execution_count": 21,
   "id": "aba5589d",
   "metadata": {},
   "outputs": [
    {
     "data": {
      "text/plain": [
       "15"
      ]
     },
     "execution_count": 21,
     "metadata": {},
     "output_type": "execute_result"
    }
   ],
   "source": [
    "test1(10)"
   ]
  },
  {
   "cell_type": "code",
   "execution_count": 24,
   "id": "0774f7ab",
   "metadata": {},
   "outputs": [],
   "source": [
    "def test2(a):\n",
    "    if type(a) == int:\n",
    "        return 'a is int'\n",
    "    else:\n",
    "        return 'Not int'"
   ]
  },
  {
   "cell_type": "code",
   "execution_count": 25,
   "id": "5287cce8",
   "metadata": {},
   "outputs": [
    {
     "data": {
      "text/plain": [
       "'a is int'"
      ]
     },
     "execution_count": 25,
     "metadata": {},
     "output_type": "execute_result"
    }
   ],
   "source": [
    "test2(10)"
   ]
  },
  {
   "cell_type": "code",
   "execution_count": 26,
   "id": "4d1beca4",
   "metadata": {},
   "outputs": [
    {
     "data": {
      "text/plain": [
       "'Not int'"
      ]
     },
     "execution_count": 26,
     "metadata": {},
     "output_type": "execute_result"
    }
   ],
   "source": [
    "test2('a')"
   ]
  },
  {
   "cell_type": "code",
   "execution_count": 27,
   "id": "23627ea6",
   "metadata": {},
   "outputs": [],
   "source": [
    "def list_num(a):\n",
    "    l = []\n",
    "    l.append(a)\n",
    "    \n",
    "    return l "
   ]
  },
  {
   "cell_type": "code",
   "execution_count": 28,
   "id": "9c5dcf6c",
   "metadata": {},
   "outputs": [
    {
     "data": {
      "text/plain": [
       "[4]"
      ]
     },
     "execution_count": 28,
     "metadata": {},
     "output_type": "execute_result"
    }
   ],
   "source": [
    "list_num(4)"
   ]
  },
  {
   "cell_type": "code",
   "execution_count": 30,
   "id": "8d6af728",
   "metadata": {},
   "outputs": [],
   "source": [
    "def test5(a):\n",
    "    for i in a:\n",
    "        if type(i) == int:\n",
    "            print(i)\n",
    "        \n",
    "        else:\n",
    "            print('Not Int')"
   ]
  },
  {
   "cell_type": "code",
   "execution_count": 31,
   "id": "16efcb7f",
   "metadata": {},
   "outputs": [
    {
     "name": "stdout",
     "output_type": "stream",
     "text": [
      "1\n",
      "2\n",
      "Not Int\n"
     ]
    }
   ],
   "source": [
    "f = [1,2,'IANT']\n",
    "test5(f)"
   ]
  },
  {
   "cell_type": "code",
   "execution_count": 1,
   "id": "6beb13f5",
   "metadata": {},
   "outputs": [],
   "source": [
    "def test5():\n",
    "    return 'This is my exam'"
   ]
  },
  {
   "cell_type": "code",
   "execution_count": 4,
   "id": "a0f00be8",
   "metadata": {},
   "outputs": [],
   "source": [
    "def test6():\n",
    "    return ' In python'"
   ]
  },
  {
   "cell_type": "code",
   "execution_count": 5,
   "id": "d7b3e877",
   "metadata": {},
   "outputs": [
    {
     "data": {
      "text/plain": [
       "'This is my exam In python'"
      ]
     },
     "execution_count": 5,
     "metadata": {},
     "output_type": "execute_result"
    }
   ],
   "source": [
    "test5() + test6()"
   ]
  },
  {
   "cell_type": "code",
   "execution_count": 6,
   "id": "c7ee6401",
   "metadata": {},
   "outputs": [],
   "source": [
    "def test7():\n",
    "    return 4040"
   ]
  },
  {
   "cell_type": "code",
   "execution_count": 7,
   "id": "c68bf40b",
   "metadata": {},
   "outputs": [
    {
     "data": {
      "text/plain": [
       "4040"
      ]
     },
     "execution_count": 7,
     "metadata": {},
     "output_type": "execute_result"
    }
   ],
   "source": [
    "test7()"
   ]
  },
  {
   "cell_type": "code",
   "execution_count": 8,
   "id": "fd4b5ada",
   "metadata": {},
   "outputs": [
    {
     "data": {
      "text/plain": [
       "4140"
      ]
     },
     "execution_count": 8,
     "metadata": {},
     "output_type": "execute_result"
    }
   ],
   "source": [
    "test7() + 100"
   ]
  },
  {
   "cell_type": "code",
   "execution_count": 9,
   "id": "11c30f5d",
   "metadata": {},
   "outputs": [],
   "source": [
    "def test8():\n",
    "    return [1,2,3,4,5,'IANT']\n",
    "        "
   ]
  },
  {
   "cell_type": "code",
   "execution_count": 10,
   "id": "3993f8a7",
   "metadata": {},
   "outputs": [
    {
     "data": {
      "text/plain": [
       "[1, 2, 3, 4, 5, 'IANT']"
      ]
     },
     "execution_count": 10,
     "metadata": {},
     "output_type": "execute_result"
    }
   ],
   "source": [
    "test8()"
   ]
  },
  {
   "cell_type": "code",
   "execution_count": 11,
   "id": "2c890e19",
   "metadata": {},
   "outputs": [],
   "source": [
    "a = test8()"
   ]
  },
  {
   "cell_type": "code",
   "execution_count": 12,
   "id": "829fdc91",
   "metadata": {},
   "outputs": [
    {
     "data": {
      "text/plain": [
       "[1, 2, 3, 4, 5, 'IANT']"
      ]
     },
     "execution_count": 12,
     "metadata": {},
     "output_type": "execute_result"
    }
   ],
   "source": [
    "a"
   ]
  },
  {
   "cell_type": "code",
   "execution_count": 13,
   "id": "e8be69de",
   "metadata": {},
   "outputs": [
    {
     "data": {
      "text/plain": [
       "1"
      ]
     },
     "execution_count": 13,
     "metadata": {},
     "output_type": "execute_result"
    }
   ],
   "source": [
    "a[0]"
   ]
  },
  {
   "cell_type": "code",
   "execution_count": 14,
   "id": "bf98e32e",
   "metadata": {},
   "outputs": [],
   "source": [
    "a.append(5)"
   ]
  },
  {
   "cell_type": "code",
   "execution_count": 15,
   "id": "556b74c4",
   "metadata": {},
   "outputs": [
    {
     "data": {
      "text/plain": [
       "[1, 2, 3, 4, 5, 'IANT', 5]"
      ]
     },
     "execution_count": 15,
     "metadata": {},
     "output_type": "execute_result"
    }
   ],
   "source": [
    "a"
   ]
  },
  {
   "cell_type": "code",
   "execution_count": 16,
   "id": "3d182a76",
   "metadata": {},
   "outputs": [],
   "source": [
    "def test9():\n",
    "    return 1,3,3,4,5,6,7"
   ]
  },
  {
   "cell_type": "code",
   "execution_count": 17,
   "id": "d287283b",
   "metadata": {},
   "outputs": [
    {
     "data": {
      "text/plain": [
       "(1, 3, 3, 4, 5, 6, 7)"
      ]
     },
     "execution_count": 17,
     "metadata": {},
     "output_type": "execute_result"
    }
   ],
   "source": [
    "test9()"
   ]
  },
  {
   "cell_type": "code",
   "execution_count": 18,
   "id": "7f83aacd",
   "metadata": {},
   "outputs": [],
   "source": [
    "a,b,c,d,e,r,t = test9()"
   ]
  },
  {
   "cell_type": "code",
   "execution_count": 19,
   "id": "45f7f9cf",
   "metadata": {},
   "outputs": [
    {
     "data": {
      "text/plain": [
       "1"
      ]
     },
     "execution_count": 19,
     "metadata": {},
     "output_type": "execute_result"
    }
   ],
   "source": [
    "a"
   ]
  },
  {
   "cell_type": "code",
   "execution_count": 20,
   "id": "254bf05b",
   "metadata": {},
   "outputs": [],
   "source": [
    "def test10(a,b,c,d):\n",
    "    return a , b, c, d"
   ]
  },
  {
   "cell_type": "code",
   "execution_count": 24,
   "id": "3f7a868a",
   "metadata": {},
   "outputs": [
    {
     "data": {
      "text/plain": [
       "(10, 20, 30, 40)"
      ]
     },
     "execution_count": 24,
     "metadata": {},
     "output_type": "execute_result"
    }
   ],
   "source": [
    "test10(10,20,30,40)"
   ]
  },
  {
   "cell_type": "code",
   "execution_count": 25,
   "id": "7fad96df",
   "metadata": {},
   "outputs": [],
   "source": [
    "def test11(*args):\n",
    "    return args"
   ]
  },
  {
   "cell_type": "code",
   "execution_count": 26,
   "id": "eb73daf8",
   "metadata": {},
   "outputs": [
    {
     "data": {
      "text/plain": [
       "(4,)"
      ]
     },
     "execution_count": 26,
     "metadata": {},
     "output_type": "execute_result"
    }
   ],
   "source": [
    "test11(4)"
   ]
  },
  {
   "cell_type": "code",
   "execution_count": 27,
   "id": "62f5bbbb",
   "metadata": {},
   "outputs": [
    {
     "data": {
      "text/plain": [
       "(1, 2, 3, 4)"
      ]
     },
     "execution_count": 27,
     "metadata": {},
     "output_type": "execute_result"
    }
   ],
   "source": [
    "test11(1,2,3,4)"
   ]
  },
  {
   "cell_type": "code",
   "execution_count": 28,
   "id": "5aa97212",
   "metadata": {},
   "outputs": [],
   "source": [
    "def test12(a,*args):\n",
    "    return a, args"
   ]
  },
  {
   "cell_type": "code",
   "execution_count": 29,
   "id": "bde189c8",
   "metadata": {},
   "outputs": [
    {
     "data": {
      "text/plain": [
       "(10, (1, 2, 3, 4, 5))"
      ]
     },
     "execution_count": 29,
     "metadata": {},
     "output_type": "execute_result"
    }
   ],
   "source": [
    "test12(10,1,2,3,4,5)"
   ]
  },
  {
   "cell_type": "code",
   "execution_count": 30,
   "id": "fa85c7af",
   "metadata": {},
   "outputs": [
    {
     "data": {
      "text/plain": [
       "('ABCD', (1, 11, 12, 12, 15))"
      ]
     },
     "execution_count": 30,
     "metadata": {},
     "output_type": "execute_result"
    }
   ],
   "source": [
    "test12('ABCD',1,11,12,12,15)"
   ]
  },
  {
   "cell_type": "code",
   "execution_count": 34,
   "id": "d7937e05",
   "metadata": {},
   "outputs": [],
   "source": [
    "def test13(a,b,*args):    #before args rule\n",
    "    return a, b , args"
   ]
  },
  {
   "cell_type": "code",
   "execution_count": 35,
   "id": "2b49e262",
   "metadata": {},
   "outputs": [
    {
     "data": {
      "text/plain": [
       "(100, 200, (5, 6, 78, 9))"
      ]
     },
     "execution_count": 35,
     "metadata": {},
     "output_type": "execute_result"
    }
   ],
   "source": [
    "test13(100,200,5,6,78,9)"
   ]
  },
  {
   "cell_type": "code",
   "execution_count": 36,
   "id": "5e2d9260",
   "metadata": {},
   "outputs": [],
   "source": [
    "def test14(*args,a):       #after args rule\n",
    "    return args , a"
   ]
  },
  {
   "cell_type": "code",
   "execution_count": 38,
   "id": "b2a58d64",
   "metadata": {},
   "outputs": [
    {
     "data": {
      "text/plain": [
       "((1, 2, 3, 4, 5, 6, 7), 100)"
      ]
     },
     "execution_count": 38,
     "metadata": {},
     "output_type": "execute_result"
    }
   ],
   "source": [
    "test14(1,2,3,4,5,6,7,a = 100)"
   ]
  },
  {
   "cell_type": "code",
   "execution_count": 39,
   "id": "d2a3daf5",
   "metadata": {},
   "outputs": [],
   "source": [
    "def test15():\n",
    "    \"\"\" This is my test 15 which returns num 400    \"\"\"\n",
    "    return 400"
   ]
  },
  {
   "cell_type": "code",
   "execution_count": 40,
   "id": "3c426ca5",
   "metadata": {},
   "outputs": [],
   "source": [
    "# Kwargs"
   ]
  },
  {
   "cell_type": "code",
   "execution_count": 41,
   "id": "f424a01e",
   "metadata": {},
   "outputs": [],
   "source": [
    "def test16(**kwargs):\n",
    "    return kwargs"
   ]
  },
  {
   "cell_type": "code",
   "execution_count": 42,
   "id": "2ecb3cce",
   "metadata": {},
   "outputs": [
    {
     "data": {
      "text/plain": [
       "{'a': 5, 'b': 6}"
      ]
     },
     "execution_count": 42,
     "metadata": {},
     "output_type": "execute_result"
    }
   ],
   "source": [
    "test16(a=5,b=6)"
   ]
  },
  {
   "cell_type": "code",
   "execution_count": 43,
   "id": "72ce7676",
   "metadata": {},
   "outputs": [],
   "source": [
    "def test17(a,b,**kwargs):\n",
    "    return a , b , kwargs"
   ]
  },
  {
   "cell_type": "code",
   "execution_count": 44,
   "id": "2662cb72",
   "metadata": {},
   "outputs": [
    {
     "data": {
      "text/plain": [
       "(10, 20, {'d': 30, 'c': 50})"
      ]
     },
     "execution_count": 44,
     "metadata": {},
     "output_type": "execute_result"
    }
   ],
   "source": [
    "test17(10,20,d=30,c=50)"
   ]
  },
  {
   "cell_type": "code",
   "execution_count": 45,
   "id": "c577943b",
   "metadata": {},
   "outputs": [],
   "source": [
    "def test18 (a, *args, **kwargs):\n",
    "    return a, args, kwargs"
   ]
  },
  {
   "cell_type": "code",
   "execution_count": 46,
   "id": "920d75c6",
   "metadata": {},
   "outputs": [
    {
     "data": {
      "text/plain": [
       "(10, (20, 30, 40), {'d': 50, 'g': 60, 'k': 80})"
      ]
     },
     "execution_count": 46,
     "metadata": {},
     "output_type": "execute_result"
    }
   ],
   "source": [
    "test18(10,20,30,40,d=50,g=60,k=80)"
   ]
  },
  {
   "cell_type": "code",
   "execution_count": 47,
   "id": "86392edf",
   "metadata": {},
   "outputs": [],
   "source": [
    "def test19(**kwargs):\n",
    "    return kwargs"
   ]
  },
  {
   "cell_type": "code",
   "execution_count": 48,
   "id": "f7b8d3f1",
   "metadata": {},
   "outputs": [
    {
     "data": {
      "text/plain": [
       "{'Name': 'Iant', 'gmail': 'iant@gmail.com'}"
      ]
     },
     "execution_count": 48,
     "metadata": {},
     "output_type": "execute_result"
    }
   ],
   "source": [
    "test19(Name= 'Iant',gmail='iant@gmail.com')"
   ]
  },
  {
   "cell_type": "code",
   "execution_count": 58,
   "id": "81fca1e8",
   "metadata": {},
   "outputs": [],
   "source": [
    "def test20(**kwargs):\n",
    "    return kwargs.keys()"
   ]
  },
  {
   "cell_type": "code",
   "execution_count": 59,
   "id": "5c28beb6",
   "metadata": {},
   "outputs": [
    {
     "data": {
      "text/plain": [
       "dict_keys(['Name', 'gmail'])"
      ]
     },
     "execution_count": 59,
     "metadata": {},
     "output_type": "execute_result"
    }
   ],
   "source": [
    "test20(Name= 'Iant',gmail='iant@gmail.com')"
   ]
  },
  {
   "cell_type": "code",
   "execution_count": 50,
   "id": "0fcbf56c",
   "metadata": {},
   "outputs": [],
   "source": [
    "d= {'A':20,'B':30}"
   ]
  },
  {
   "cell_type": "code",
   "execution_count": 51,
   "id": "5e3131ae",
   "metadata": {},
   "outputs": [
    {
     "data": {
      "text/plain": [
       "{'A': 20, 'B': 30}"
      ]
     },
     "execution_count": 51,
     "metadata": {},
     "output_type": "execute_result"
    }
   ],
   "source": [
    "d"
   ]
  },
  {
   "cell_type": "code",
   "execution_count": 61,
   "id": "2ee27ad3",
   "metadata": {},
   "outputs": [],
   "source": [
    "def test21(*args):\n",
    "    for i in args:\n",
    "        if type(i) == list:\n",
    "            print(i)"
   ]
  },
  {
   "cell_type": "code",
   "execution_count": 62,
   "id": "c49a4a93",
   "metadata": {},
   "outputs": [
    {
     "name": "stdout",
     "output_type": "stream",
     "text": [
      "[88, 99, 55, 15]\n"
     ]
    }
   ],
   "source": [
    "test21(1,2,3,(5,6,7,1),[88,99,55,15])"
   ]
  },
  {
   "cell_type": "code",
   "execution_count": 63,
   "id": "fbc6607f",
   "metadata": {},
   "outputs": [
    {
     "name": "stdout",
     "output_type": "stream",
     "text": [
      "[1, 2, 3]\n",
      "[80, 60, 50]\n"
     ]
    }
   ],
   "source": [
    "test21('IANT',22.0,[1,2,3],(100,200,300),[80,60,50])"
   ]
  },
  {
   "cell_type": "code",
   "execution_count": 64,
   "id": "3c7d1881",
   "metadata": {},
   "outputs": [],
   "source": [
    "a = 10"
   ]
  },
  {
   "cell_type": "code",
   "execution_count": 70,
   "id": "d8067ea7",
   "metadata": {},
   "outputs": [],
   "source": [
    "def test22(*args):\n",
    "    l=[]\n",
    "    for i in args:\n",
    "        if type(i) == list:\n",
    "            l.append(i)\n",
    "            \n",
    "    return l"
   ]
  },
  {
   "cell_type": "code",
   "execution_count": 71,
   "id": "03f0a7e8",
   "metadata": {},
   "outputs": [
    {
     "data": {
      "text/plain": [
       "[[1, 2, 3], [80, 60, 50]]"
      ]
     },
     "execution_count": 71,
     "metadata": {},
     "output_type": "execute_result"
    }
   ],
   "source": [
    "test22('IANT',22.0,[1,2,3],(100,200,300),[80,60,50])"
   ]
  },
  {
   "cell_type": "code",
   "execution_count": 67,
   "id": "acf0b020",
   "metadata": {},
   "outputs": [
    {
     "ename": "NameError",
     "evalue": "name 'l' is not defined",
     "output_type": "error",
     "traceback": [
      "\u001b[1;31m---------------------------------------------------------------------------\u001b[0m",
      "\u001b[1;31mNameError\u001b[0m                                 Traceback (most recent call last)",
      "Cell \u001b[1;32mIn[67], line 1\u001b[0m\n\u001b[1;32m----> 1\u001b[0m \u001b[43ml\u001b[49m\n",
      "\u001b[1;31mNameError\u001b[0m: name 'l' is not defined"
     ]
    }
   ],
   "source": [
    "l"
   ]
  },
  {
   "cell_type": "code",
   "execution_count": null,
   "id": "2c633d29",
   "metadata": {},
   "outputs": [],
   "source": []
  }
 ],
 "metadata": {
  "kernelspec": {
   "display_name": "Python 3 (ipykernel)",
   "language": "python",
   "name": "python3"
  },
  "language_info": {
   "codemirror_mode": {
    "name": "ipython",
    "version": 3
   },
   "file_extension": ".py",
   "mimetype": "text/x-python",
   "name": "python",
   "nbconvert_exporter": "python",
   "pygments_lexer": "ipython3",
   "version": "3.10.9"
  }
 },
 "nbformat": 4,
 "nbformat_minor": 5
}
